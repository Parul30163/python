{
  "cells": [
    {
      "cell_type": "markdown",
      "metadata": {
        "id": "view-in-github",
        "colab_type": "text"
      },
      "source": [
        "<a href=\"https://colab.research.google.com/github/Parul30163/python/blob/main/ml07june.ipynb\" target=\"_parent\"><img src=\"https://colab.research.google.com/assets/colab-badge.svg\" alt=\"Open In Colab\"/></a>"
      ]
    },
    {
      "cell_type": "code",
      "execution_count": null,
      "metadata": {
        "id": "SxkdildphcxT"
      },
      "outputs": [],
      "source": [
        "from tensorflow.keras.layers import SimpleRNN , LSTM ,GRU , Bidirectional , Dense ,Embedding\n",
        "from tensorflow.keras.datasets import imdb\n",
        "from tensorflow.keras.models import Sequential\n",
        "import numpy as np"
      ]
    },
    {
      "cell_type": "code",
      "execution_count": null,
      "metadata": {
        "colab": {
          "base_uri": "https://localhost:8080/"
        },
        "id": "MEkbn5kPwG3V",
        "outputId": "69092d63-6f75-4e3b-e21e-7e7242385ea5"
      },
      "outputs": [
        {
          "name": "stdout",
          "output_type": "stream",
          "text": [
            "Downloading data from https://storage.googleapis.com/tensorflow/tf-keras-datasets/imdb.npz\n",
            "17464789/17464789 [==============================] - 2s 0us/step\n",
            "[1, 14, 22, 16, 43, 530, 973, 1622, 1385, 65, 458, 4468, 66, 3941, 4, 173, 36, 256, 5, 25, 100, 43, 838, 112, 50, 670, 2, 9, 35, 480, 284, 5, 150, 4, 172, 112, 167, 2, 336, 385, 39, 4, 172, 4536, 1111, 17, 546, 38, 13, 447, 4, 192, 50, 16, 6, 147, 2025, 19, 14, 22, 4, 1920, 4613, 469, 4, 22, 71, 87, 12, 16, 43, 530, 38, 76, 15, 13, 1247, 4, 22, 17, 515, 17, 12, 16, 626, 18, 2, 5, 62, 386, 12, 8, 316, 8, 106, 5, 4, 2223, 2, 16, 480, 66, 3785, 33, 4, 130, 12, 16, 38, 619, 5, 25, 124, 51, 36, 135, 48, 25, 1415, 33, 6, 22, 12, 215, 28, 77, 52, 5, 14, 407, 16, 82, 2, 8, 4, 107, 117, 2, 15, 256, 4, 2, 7, 3766, 5, 723, 36, 71, 43, 530, 476, 26, 400, 317, 46, 7, 4, 2, 1029, 13, 104, 88, 4, 381, 15, 297, 98, 32, 2071, 56, 26, 141, 6, 194, 2, 18, 4, 226, 22, 21, 134, 476, 26, 480, 5, 144, 30, 2, 18, 51, 36, 28, 224, 92, 25, 104, 4, 226, 65, 16, 38, 1334, 88, 12, 16, 283, 5, 16, 4472, 113, 103, 32, 15, 16, 2, 19, 178, 32]\n"
          ]
        }
      ],
      "source": [
        "# getting reviews with words that come under 5000\n",
        "# most occuring words in the entire\n",
        "# corpus of textual review data\n",
        "\n",
        "vocab_size = 5000\n",
        "(x_train , y_train) , (x_test , y_test) = imdb.load_data(num_words=vocab_size)\n",
        "\n",
        "print(x_train[0])"
      ]
    },
    {
      "cell_type": "code",
      "execution_count": null,
      "metadata": {
        "colab": {
          "base_uri": "https://localhost:8080/"
        },
        "id": "G5Dt5Q52wo3s",
        "outputId": "b93515ec-c1fe-4d11-8c71-02957a57fb10"
      },
      "outputs": [
        {
          "name": "stdout",
          "output_type": "stream",
          "text": [
            "Downloading data from https://storage.googleapis.com/tensorflow/tf-keras-datasets/imdb_word_index.json\n",
            "1641221/1641221 [==============================] - 1s 1us/step\n",
            "['the', 'as', 'you', 'with', 'out', 'themselves', 'powerful', 'lets', 'loves', 'their', 'becomes', 'reaching', 'had', 'journalist', 'of', 'lot', 'from', 'anyone', 'to', 'have', 'after', 'out', 'atmosphere', 'never', 'more', 'room', 'and', 'it', 'so', 'heart', 'shows', 'to', 'years', 'of', 'every', 'never', 'going', 'and', 'help', 'moments', 'or', 'of', 'every', 'chest', 'visual', 'movie', 'except', 'her', 'was', 'several', 'of', 'enough', 'more', 'with', 'is', 'now', 'current', 'film', 'as', 'you', 'of', 'mine', 'potentially', 'unfortunately', 'of', 'you', 'than', 'him', 'that', 'with', 'out', 'themselves', 'her', 'get', 'for', 'was', 'camp', 'of', 'you', 'movie', 'sometimes', 'movie', 'that', 'with', 'scary', 'but', 'and', 'to', 'story', 'wonderful', 'that', 'in', 'seeing', 'in', 'character', 'to', 'of', '70s', 'and', 'with', 'heart', 'had', 'shadows', 'they', 'of', 'here', 'that', 'with', 'her', 'serious', 'to', 'have', 'does', 'when', 'from', 'why', 'what', 'have', 'critics', 'they', 'is', 'you', 'that', \"isn't\", 'one', 'will', 'very', 'to', 'as', 'itself', 'with', 'other', 'and', 'in', 'of', 'seen', 'over', 'and', 'for', 'anyone', 'of', 'and', 'br', \"show's\", 'to', 'whether', 'from', 'than', 'out', 'themselves', 'history', 'he', 'name', 'half', 'some', 'br', 'of', 'and', 'odd', 'was', 'two', 'most', 'of', 'mean', 'for', '1', 'any', 'an', 'boat', 'she', 'he', 'should', 'is', 'thought', 'and', 'but', 'of', 'script', 'you', 'not', 'while', 'history', 'he', 'heart', 'to', 'real', 'at', 'and', 'but', 'when', 'from', 'one', 'bit', 'then', 'have', 'two', 'of', 'script', 'their', 'with', 'her', 'nobody', 'most', 'that', 'with', \"wasn't\", 'to', 'with', 'armed', 'acting', 'watch', 'an', 'for', 'with', 'and', 'film', 'want', 'an']\n"
          ]
        }
      ],
      "source": [
        "# getting all the words from word_index dictonary\n",
        "word_idx= imdb.get_word_index()\n",
        "#originally the index number of a value and not a key\n",
        "#hence convertig the index as key and the words as values\n",
        "word_idx ={i:word for word,i in word_idx.items()}\n",
        "\n",
        "#again printing the review\n",
        "print ([word_idx[i]for i in x_train[0]])"
      ]
    },
    {
      "cell_type": "code",
      "execution_count": null,
      "metadata": {
        "colab": {
          "base_uri": "https://localhost:8080/"
        },
        "id": "GwVcY8xcxuQ7",
        "outputId": "01eb36d1-fc7d-4b82-d2aa-fce3424f1687"
      },
      "outputs": [
        {
          "name": "stdout",
          "output_type": "stream",
          "text": [
            "Max length of reviews: 2697\n",
            "Min length of reviews: 70\n"
          ]
        }
      ],
      "source": [
        "# get min and the max  length of reviews\n",
        "print (\"Max length of reviews:\", len(max(x_train+x_test, key=len)))\n",
        "print (\"Min length of reviews:\", len(min(x_train+x_test, key=len)))"
      ]
    },
    {
      "cell_type": "code",
      "execution_count": null,
      "metadata": {
        "id": "dhQDA7dTx_7J"
      },
      "outputs": [],
      "source": [
        "from tensorflow.keras.preprocessing import sequence\n",
        "\n",
        "#keeping a fixed length of all  reviews to max 400 words\n",
        "max_words=400\n",
        "x_train = sequence.pad_sequences(x_train, maxlen=max_words)\n",
        "x_test = sequence.pad_sequences(x_test, maxlen=max_words)\n",
        "\n",
        "x_valid, y_valid = x_train[:64], y_train[:64]\n",
        "x_train, y_train = x_train[64:], y_train[64:]"
      ]
    },
    {
      "cell_type": "code",
      "execution_count": null,
      "metadata": {
        "colab": {
          "base_uri": "https://localhost:8080/"
        },
        "id": "nPfCCzzvySia",
        "outputId": "ccdf30da-cf21-46ae-904d-1d327f40f971"
      },
      "outputs": [
        {
          "name": "stdout",
          "output_type": "stream",
          "text": [
            "Model: \"Simple_RNN\"\n",
            "_________________________________________________________________\n",
            " Layer (type)                Output Shape              Param #   \n",
            "=================================================================\n",
            " embedding (Embedding)       (None, 400, 32)           160000    \n",
            "                                                                 \n",
            " simple_rnn (SimpleRNN)      (None, 128)               20608     \n",
            "                                                                 \n",
            " dense (Dense)               (None, 1)                 129       \n",
            "                                                                 \n",
            "=================================================================\n",
            "Total params: 180737 (706.00 KB)\n",
            "Trainable params: 180737 (706.00 KB)\n",
            "Non-trainable params: 0 (0.00 Byte)\n",
            "_________________________________________________________________\n",
            "None\n",
            "Epoch 1/5\n",
            "390/390 [==============================] - 69s 172ms/step - loss: 0.6266 - accuracy: 0.6248 - val_loss: 0.3035 - val_accuracy: 0.8906\n",
            "Epoch 2/5\n",
            "390/390 [==============================] - 66s 168ms/step - loss: 0.5624 - accuracy: 0.7352 - val_loss: 0.5525 - val_accuracy: 0.7500\n",
            "Epoch 3/5\n",
            "390/390 [==============================] - 65s 167ms/step - loss: 0.5742 - accuracy: 0.7002 - val_loss: 0.6085 - val_accuracy: 0.6562\n",
            "Epoch 4/5\n",
            "390/390 [==============================] - 65s 168ms/step - loss: 0.5053 - accuracy: 0.7580 - val_loss: 0.5599 - val_accuracy: 0.7812\n",
            "Epoch 5/5\n",
            "390/390 [==============================] - 67s 171ms/step - loss: 0.4639 - accuracy: 0.7831 - val_loss: 0.6427 - val_accuracy: 0.6094\n",
            "\n",
            "simple_RNN score ----> [0.5983992218971252, 0.6674000024795532]\n"
          ]
        }
      ],
      "source": [
        "# fixing every words embedding size to be 32\n",
        "embd_len =32\n",
        "\n",
        "#creating a RNN model\n",
        "RNN_model = Sequential(name='Simple_RNN')\n",
        "RNN_model.add(Embedding(vocab_size, embd_len, input_length=max_words))\n",
        "\n",
        "# in case of  a stacked (more than one layer of rnn)\n",
        "# use reture_ sequences= True\n",
        "RNN_model.add(SimpleRNN(128,\n",
        "                        activation ='tanh',\n",
        "                        return_sequences =False))\n",
        "RNN_model.add(Dense(1, activation='sigmoid'))\n",
        "\n",
        "# printing model summary\n",
        "print(RNN_model.summary())\n",
        "\n",
        "#compling model\n",
        "RNN_model.compile(loss='binary_crossentropy',\n",
        "                  optimizer='adam',\n",
        "                  metrics=['accuracy'])\n",
        "\n",
        "#TRAINING the odel\n",
        "history =RNN_model.fit(x_train,y_train,\n",
        "                       epochs=5,\n",
        "                       batch_size=64,\n",
        "                       verbose=1,\n",
        "                       validation_data=(x_valid, y_valid)\n",
        "                       )\n",
        "\n",
        "#printing model score on test data\n",
        "print()\n",
        "print(\"simple_RNN score ---->\",RNN_model.evaluate(x_test, y_test,verbose=0))"
      ]
    },
    {
      "cell_type": "code",
      "execution_count": null,
      "metadata": {
        "colab": {
          "base_uri": "https://localhost:8080/"
        },
        "id": "mEPi3ItD1XVx",
        "outputId": "0f8649cf-4dc9-4123-f176-b6654ef2f634"
      },
      "outputs": [
        {
          "name": "stdout",
          "output_type": "stream",
          "text": [
            "Model: \"GRU_model\"\n",
            "_________________________________________________________________\n",
            " Layer (type)                Output Shape              Param #   \n",
            "=================================================================\n",
            " embedding_1 (Embedding)     (None, 400, 32)           160000    \n",
            "                                                                 \n",
            " gru (GRU)                   (None, 128)               62208     \n",
            "                                                                 \n",
            " dense_1 (Dense)             (None, 1)                 129       \n",
            "                                                                 \n",
            "=================================================================\n",
            "Total params: 222337 (868.50 KB)\n",
            "Trainable params: 222337 (868.50 KB)\n",
            "Non-trainable params: 0 (0.00 Byte)\n",
            "_________________________________________________________________\n",
            "None\n",
            "Epoch 1/5\n",
            "390/390 [==============================] - 228s 578ms/step - loss: 0.5509 - accuracy: 0.6988 - val_loss: 0.3123 - val_accuracy: 0.8750\n",
            "Epoch 2/5\n",
            "390/390 [==============================] - 230s 589ms/step - loss: 0.3017 - accuracy: 0.8770 - val_loss: 0.2338 - val_accuracy: 0.9375\n",
            "Epoch 3/5\n",
            "136/390 [=========>....................] - ETA: 2:36 - loss: 0.2320 - accuracy: 0.9084"
          ]
        }
      ],
      "source": [
        "# defining GRU model\n",
        "gru_model =Sequential(name='GRU_model')\n",
        "gru_model.add(Embedding(vocab_size, embd_len, input_length=max_words))\n",
        "gru_model.add(GRU(128,\n",
        "                  activation='tanh',\n",
        "                  return_sequences=False))\n",
        "gru_model.add(Dense(1, activation='sigmoid'))\n",
        "\n",
        "\n",
        "#printing the summary\n",
        "print(gru_model.summary())\n",
        "\n",
        "#compiling the model\n",
        "gru_model.compile(loss='binary_crossentropy',\n",
        "                  optimizer='adam',\n",
        "                  metrics=['accuracy'])\n",
        "\n",
        "\n",
        "# training the GRU model\n",
        "histroy2 =gru_model.fit(x_train,y_train,\n",
        "                       epochs=5,\n",
        "                       batch_size=64,\n",
        "                       verbose=1,\n",
        "                       validation_data=(x_valid, y_valid)\n",
        "                       )\n",
        "\n",
        "#printing model score on the data\n",
        "print()\n",
        "print(\"GRU model Score--->\",gru_model.evaluate(x_test, y_test,verbose=0))"
      ]
    },
    {
      "cell_type": "code",
      "execution_count": null,
      "metadata": {
        "colab": {
          "background_save": true
        },
        "id": "lsJ1dFqK3e5Z",
        "outputId": "07c6e7be-3a16-4e40-b641-33a697fbdc66"
      },
      "outputs": [
        {
          "name": "stdout",
          "output_type": "stream",
          "text": [
            "Model: \"LSTM_model\"\n",
            "_________________________________________________________________\n",
            " Layer (type)                Output Shape              Param #   \n",
            "=================================================================\n",
            " embedding_2 (Embedding)     (None, 400, 32)           160000    \n",
            "                                                                 \n",
            " lstm (LSTM)                 (None, 128)               82432     \n",
            "                                                                 \n",
            " dense_2 (Dense)             (None, 1)                 129       \n",
            "                                                                 \n",
            "=================================================================\n",
            "Total params: 242561 (947.50 KB)\n",
            "Trainable params: 242561 (947.50 KB)\n",
            "Non-trainable params: 0 (0.00 Byte)\n",
            "_________________________________________________________________\n",
            "None\n",
            "Epoch 1/5\n",
            "390/390 [==============================] - 274s 695ms/step - loss: 0.4624 - accuracy: 0.7745 - val_loss: 0.2313 - val_accuracy: 0.9219\n",
            "Epoch 2/5\n",
            "390/390 [==============================] - 265s 681ms/step - loss: 0.3172 - accuracy: 0.8710 - val_loss: 0.2594 - val_accuracy: 0.9531\n",
            "Epoch 3/5\n",
            "390/390 [==============================] - 270s 693ms/step - loss: 0.3010 - accuracy: 0.8781 - val_loss: 0.2855 - val_accuracy: 0.9219\n",
            "Epoch 4/5\n",
            "390/390 [==============================] - 270s 694ms/step - loss: 0.2786 - accuracy: 0.8900 - val_loss: 0.2526 - val_accuracy: 0.9062\n",
            "Epoch 5/5\n",
            "390/390 [==============================] - 274s 703ms/step - loss: 0.2252 - accuracy: 0.9136 - val_loss: 0.2122 - val_accuracy: 0.9375\n",
            "\n",
            "LSTM model Score---> [0.3108227849006653, 0.8709999918937683]\n"
          ]
        }
      ],
      "source": [
        "#LSTM(long sort term memory)\n",
        "lstm_model =Sequential(name='LSTM_model')\n",
        "lstm_model.add(Embedding(vocab_size, embd_len, input_length=max_words))\n",
        "lstm_model.add(LSTM(128,\n",
        "                  activation='tanh',\n",
        "                  return_sequences=False))\n",
        "lstm_model.add(Dense(1, activation='sigmoid'))\n",
        "\n",
        "#printing model summary\n",
        "print(lstm_model.summary())\n",
        "\n",
        "#compiling the model\n",
        "lstm_model.compile(loss='binary_crossentropy',\n",
        "                  optimizer='adam',\n",
        "                  metrics=['accuracy'])\n",
        "\n",
        "#training the LSTM model\n",
        "histroy3 =lstm_model.fit(x_train,y_train,\n",
        "                       epochs=5,\n",
        "                       batch_size=64,\n",
        "                       verbose=1,\n",
        "                       validation_data=(x_valid, y_valid)\n",
        "                       )\n",
        "\n",
        "#printing model score on the data\n",
        "print()\n",
        "print(\"LSTM model Score--->\",gru_model.evaluate(x_test, y_test,verbose=0))\n"
      ]
    }
  ],
  "metadata": {
    "colab": {
      "provenance": [],
      "authorship_tag": "ABX9TyMliR6TpjK1ydqUcPyNFfGH",
      "include_colab_link": true
    },
    "kernelspec": {
      "display_name": "Python 3",
      "name": "python3"
    },
    "language_info": {
      "name": "python"
    }
  },
  "nbformat": 4,
  "nbformat_minor": 0
}