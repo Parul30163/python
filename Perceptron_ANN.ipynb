{
  "nbformat": 4,
  "nbformat_minor": 0,
  "metadata": {
    "colab": {
      "provenance": [],
      "authorship_tag": "ABX9TyPZ5tWYk6/0mRA6eHoXcmCh",
      "include_colab_link": true
    },
    "kernelspec": {
      "name": "python3",
      "display_name": "Python 3"
    },
    "language_info": {
      "name": "python"
    }
  },
  "cells": [
    {
      "cell_type": "markdown",
      "metadata": {
        "id": "view-in-github",
        "colab_type": "text"
      },
      "source": [
        "<a href=\"https://colab.research.google.com/github/Parul30163/python/blob/main/Perceptron_ANN.ipynb\" target=\"_parent\"><img src=\"https://colab.research.google.com/assets/colab-badge.svg\" alt=\"Open In Colab\"/></a>"
      ]
    },
    {
      "cell_type": "code",
      "execution_count": null,
      "metadata": {
        "id": "hii6U0rPsbuC"
      },
      "outputs": [],
      "source": [
        "import numpy as np\n"
      ]
    },
    {
      "cell_type": "code",
      "source": [
        "def preModel(x,w,b):\n",
        "  yin= np.dot(x,w)+b\n",
        "  return yin\n"
      ],
      "metadata": {
        "id": "BFI5CqAts4Zk"
      },
      "execution_count": null,
      "outputs": []
    },
    {
      "cell_type": "code",
      "source": [
        "def uStep(yin):\n",
        "  if yin>=0:\n",
        "    return 1\n",
        "  else:\n",
        "    return 0"
      ],
      "metadata": {
        "id": "AXrNBrBqtIRx"
      },
      "execution_count": null,
      "outputs": []
    },
    {
      "cell_type": "code",
      "source": [
        "def andFx(x):\n",
        "  w=np.array([1,1])\n",
        "  b=0.1\n",
        "  yin=preModel(x,w,b)\n",
        "  y=uStep(yin)\n",
        "  return y"
      ],
      "metadata": {
        "id": "6xmZJU1Cttm6"
      },
      "execution_count": null,
      "outputs": []
    },
    {
      "cell_type": "code",
      "source": [
        "test1=np.array([0,0])\n",
        "test2=np.array([0,1])\n",
        "test3=np.array([1,0])\n",
        "test4=np.array([1,1])"
      ],
      "metadata": {
        "id": "AEIBCHy4t5Fn"
      },
      "execution_count": null,
      "outputs": []
    },
    {
      "cell_type": "code",
      "source": [
        "print(andFx(test1))\n",
        "print(andFx(test2))\n",
        "print(andFx(test3))\n",
        "print(andFx(test4))"
      ],
      "metadata": {
        "colab": {
          "base_uri": "https://localhost:8080/"
        },
        "id": "j5ZagZmAuap_",
        "outputId": "a34ce50b-8496-4933-fffd-d8727bc40d28"
      },
      "execution_count": null,
      "outputs": [
        {
          "output_type": "stream",
          "name": "stdout",
          "text": [
            "1\n",
            "1\n",
            "1\n",
            "1\n"
          ]
        }
      ]
    },
    {
      "cell_type": "code",
      "source": [
        "-"
      ],
      "metadata": {
        "id": "-IW0uMUIuglb"
      },
      "execution_count": null,
      "outputs": []
    }
  ]
}