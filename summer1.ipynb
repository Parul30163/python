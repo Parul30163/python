{
 "cells": [
  {
   "cell_type": "code",
   "execution_count": 3,
   "id": "6175b4f7",
   "metadata": {},
   "outputs": [
    {
     "name": "stdout",
     "output_type": "stream",
     "text": [
      "hello-hi alien\n"
     ]
    }
   ],
   "source": [
    "print(\"hello\",end=\"-\")\n",
    "print(\"hi alien\")"
   ]
  },
  {
   "cell_type": "code",
   "execution_count": 4,
   "id": "c5e9489e",
   "metadata": {},
   "outputs": [
    {
     "name": "stdout",
     "output_type": "stream",
     "text": [
      "<class 'int'>\n"
     ]
    }
   ],
   "source": [
    "age=100\n",
    "print(type(age\n",
    "        ))\n"
   ]
  },
  {
   "cell_type": "code",
   "execution_count": 5,
   "id": "12f71080",
   "metadata": {},
   "outputs": [
    {
     "name": "stdout",
     "output_type": "stream",
     "text": [
      "<class 'str'>\n"
     ]
    }
   ],
   "source": [
    "city=\"parul\"\n",
    "print(type(city))"
   ]
  },
  {
   "cell_type": "code",
   "execution_count": 6,
   "id": "538d3efe",
   "metadata": {},
   "outputs": [
    {
     "ename": "SyntaxError",
     "evalue": "EOL while scanning string literal (2165080245.py, line 1)",
     "output_type": "error",
     "traceback": [
      "\u001b[1;36m  File \u001b[1;32m\"C:\\Users\\PARUL\\AppData\\Local\\Temp\\ipykernel_10940\\2165080245.py\"\u001b[1;36m, line \u001b[1;32m1\u001b[0m\n\u001b[1;33m    address=\"4/216 old\u001b[0m\n\u001b[1;37m                      ^\u001b[0m\n\u001b[1;31mSyntaxError\u001b[0m\u001b[1;31m:\u001b[0m EOL while scanning string literal\n"
     ]
    }
   ],
   "source": [
    "address=\"4/216 old\n",
    "housing \n",
    "board \""
   ]
  },
  {
   "cell_type": "code",
   "execution_count": 7,
   "id": "8f3ef2c6",
   "metadata": {},
   "outputs": [],
   "source": [
    "address=\"\"\"4/216 old\n",
    "housing \n",
    "board \"\"\"#multiline string"
   ]
  },
  {
   "cell_type": "code",
   "execution_count": 9,
   "id": "cc547667",
   "metadata": {},
   "outputs": [
    {
     "name": "stdout",
     "output_type": "stream",
     "text": [
      "company name: regex year is 2024\n"
     ]
    }
   ],
   "source": [
    "company= \"regex\"\n",
    "year=2024\n",
    "print(\"company name:\",company,\"year is\",year)#company is variable"
   ]
  },
  {
   "cell_type": "code",
   "execution_count": 11,
   "id": "a1242b2b",
   "metadata": {},
   "outputs": [
    {
     "name": "stdout",
     "output_type": "stream",
     "text": [
      "company name:regex year is2024\n"
     ]
    }
   ],
   "source": [
    "company= \"regex\"\n",
    "year=2024\n",
    "print(f\"company name:{company} year is{year}\")#string formating f...{}"
   ]
  },
  {
   "cell_type": "code",
   "execution_count": 14,
   "id": "d4f488e9",
   "metadata": {},
   "outputs": [
    {
     "name": "stdout",
     "output_type": "stream",
     "text": [
      "ierhfjkhparul\n",
      "ierhfjkhparul\n"
     ]
    }
   ],
   "source": [
    "username= \"parul\"\n",
    "msg=f\"ierhfjkh{username}\"\n",
    "print(msg)\n",
    "username=\"manan\"\n",
    "print(msg)"
   ]
  },
  {
   "cell_type": "code",
   "execution_count": 15,
   "id": "1893255e",
   "metadata": {},
   "outputs": [
    {
     "name": "stdout",
     "output_type": "stream",
     "text": [
      "before 1844905537840\n",
      "before 1844905537840\n",
      "before 1844958223216\n"
     ]
    }
   ],
   "source": [
    "city=\"hi\"\n",
    "print(\"before\",id(city))#same\n",
    "y=\"hi\"\n",
    "print(\"before\",id(y))#same\n",
    "city=\"yo\"\n",
    "print(\"before\",id(city))\n",
    "#if we make any varialbe and we change it and make new memory add so imutable,if it doent make new memory then then it is mutable\n"
   ]
  },
  {
   "cell_type": "code",
   "execution_count": 16,
   "id": "d791b26a",
   "metadata": {},
   "outputs": [
    {
     "name": "stdout",
     "output_type": "stream",
     "text": [
      "hi\n"
     ]
    }
   ],
   "source": [
    "print(y\n",
    "    )"
   ]
  },
  {
   "cell_type": "code",
   "execution_count": 17,
   "id": "ff4ca729",
   "metadata": {},
   "outputs": [
    {
     "name": "stdout",
     "output_type": "stream",
     "text": [
      "yo\n"
     ]
    }
   ],
   "source": [
    "print (city)"
   ]
  },
  {
   "cell_type": "code",
   "execution_count": 18,
   "id": "e05185bf",
   "metadata": {},
   "outputs": [
    {
     "data": {
      "text/plain": [
       "6.666666666666667"
      ]
     },
     "execution_count": 18,
     "metadata": {},
     "output_type": "execute_result"
    }
   ],
   "source": [
    "#operators\n",
    "#arthematic\n",
    "20/3#divide...ans float"
   ]
  },
  {
   "cell_type": "code",
   "execution_count": 19,
   "id": "e68eb069",
   "metadata": {},
   "outputs": [
    {
     "data": {
      "text/plain": [
       "6"
      ]
     },
     "execution_count": 19,
     "metadata": {},
     "output_type": "execute_result"
    }
   ],
   "source": [
    "#floor division....int\n",
    "20//3"
   ]
  },
  {
   "cell_type": "code",
   "execution_count": 20,
   "id": "c291558d",
   "metadata": {},
   "outputs": [
    {
     "data": {
      "text/plain": [
       "15.0"
      ]
     },
     "execution_count": 20,
     "metadata": {},
     "output_type": "execute_result"
    }
   ],
   "source": [
    "10.0+5 # ans in float coz 10.0>5"
   ]
  },
  {
   "cell_type": "code",
   "execution_count": 21,
   "id": "37d4057e",
   "metadata": {},
   "outputs": [
    {
     "data": {
      "text/plain": [
       "12.0"
      ]
     },
     "execution_count": 21,
     "metadata": {},
     "output_type": "execute_result"
    }
   ],
   "source": [
    "1+5*4/2-7+8# ans floatt / \n"
   ]
  },
  {
   "cell_type": "code",
   "execution_count": 22,
   "id": "2c17c8d9",
   "metadata": {},
   "outputs": [
    {
     "data": {
      "text/plain": [
       "2"
      ]
     },
     "execution_count": 22,
     "metadata": {},
     "output_type": "execute_result"
    }
   ],
   "source": [
    "# % reminder\n",
    "23%3\n"
   ]
  },
  {
   "cell_type": "code",
   "execution_count": 23,
   "id": "080390ac",
   "metadata": {},
   "outputs": [
    {
     "data": {
      "text/plain": [
       "8"
      ]
     },
     "execution_count": 23,
     "metadata": {},
     "output_type": "execute_result"
    }
   ],
   "source": [
    "#**\n",
    "2**3"
   ]
  },
  {
   "cell_type": "code",
   "execution_count": 24,
   "id": "1807c730",
   "metadata": {},
   "outputs": [
    {
     "data": {
      "text/plain": [
       "81"
      ]
     },
     "execution_count": 24,
     "metadata": {},
     "output_type": "execute_result"
    }
   ],
   "source": [
    "3**4"
   ]
  },
  {
   "cell_type": "code",
   "execution_count": 25,
   "id": "5db5c2ea",
   "metadata": {},
   "outputs": [],
   "source": [
    "#arth. precendence rule\n",
    "# **\n",
    "#* / // %\n",
    "#+ -\n"
   ]
  },
  {
   "cell_type": "code",
   "execution_count": 26,
   "id": "9050824f",
   "metadata": {},
   "outputs": [
    {
     "name": "stdout",
     "output_type": "stream",
     "text": [
      "10\n"
     ]
    }
   ],
   "source": [
    "#assignmentop\n",
    "x=10\n",
    "x+5\n",
    "print(x)"
   ]
  },
  {
   "cell_type": "code",
   "execution_count": 27,
   "id": "19ffa88a",
   "metadata": {},
   "outputs": [
    {
     "name": "stdout",
     "output_type": "stream",
     "text": [
      "15\n"
     ]
    }
   ],
   "source": [
    "x+=5\n",
    "print(x)"
   ]
  },
  {
   "cell_type": "code",
   "execution_count": 31,
   "id": "3dab2cc1",
   "metadata": {},
   "outputs": [
    {
     "data": {
      "text/plain": [
       "True"
      ]
     },
     "execution_count": 31,
     "metadata": {},
     "output_type": "execute_result"
    }
   ],
   "source": [
    "#+= -= *= /= \n",
    "#coompresion >= <= ==\n",
    "#logical  and or not\n",
    "x=10\n",
    "y=19\n",
    "x==10 and y>18"
   ]
  },
  {
   "cell_type": "code",
   "execution_count": 33,
   "id": "6cca86a1",
   "metadata": {},
   "outputs": [
    {
     "data": {
      "text/plain": [
       "True"
      ]
     },
     "execution_count": 33,
     "metadata": {},
     "output_type": "execute_result"
    }
   ],
   "source": [
    "#membership and identity op\n",
    "\n",
    "\"j\" in \"jaipur\" #membership  {case sensitive}"
   ]
  },
  {
   "cell_type": "code",
   "execution_count": 34,
   "id": "8a0fbef7",
   "metadata": {},
   "outputs": [
    {
     "data": {
      "text/plain": [
       "False"
      ]
     },
     "execution_count": 34,
     "metadata": {},
     "output_type": "execute_result"
    }
   ],
   "source": [
    "\"purj\" in \"jaipur\""
   ]
  },
  {
   "cell_type": "code",
   "execution_count": 35,
   "id": "888d8ffb",
   "metadata": {},
   "outputs": [
    {
     "data": {
      "text/plain": [
       "True"
      ]
     },
     "execution_count": 35,
     "metadata": {},
     "output_type": "execute_result"
    }
   ],
   "source": [
    "\"x\" not in \"jaipur\""
   ]
  },
  {
   "cell_type": "code",
   "execution_count": 36,
   "id": "d1ba2e9e",
   "metadata": {},
   "outputs": [
    {
     "data": {
      "text/plain": [
       "True"
      ]
     },
     "execution_count": 36,
     "metadata": {},
     "output_type": "execute_result"
    }
   ],
   "source": [
    "\"pur\" in \"jaipur\""
   ]
  },
  {
   "cell_type": "code",
   "execution_count": 38,
   "id": "88272a90",
   "metadata": {},
   "outputs": [
    {
     "data": {
      "text/plain": [
       "True"
      ]
     },
     "execution_count": 38,
     "metadata": {},
     "output_type": "execute_result"
    }
   ],
   "source": [
    "#identity op\n",
    "#varible belong to certain datatype or object  belong to a class\n",
    "x=10\n",
    "type(x) is int"
   ]
  },
  {
   "cell_type": "code",
   "execution_count": 39,
   "id": "7edb6cf6",
   "metadata": {},
   "outputs": [
    {
     "data": {
      "text/plain": [
       "False"
      ]
     },
     "execution_count": 39,
     "metadata": {},
     "output_type": "execute_result"
    }
   ],
   "source": [
    "type(x) is not int"
   ]
  },
  {
   "cell_type": "code",
   "execution_count": 40,
   "id": "e03fb25b",
   "metadata": {},
   "outputs": [
    {
     "data": {
      "text/plain": [
       "True"
      ]
     },
     "execution_count": 40,
     "metadata": {},
     "output_type": "execute_result"
    }
   ],
   "source": [
    "# == and is op\n",
    "x=500\n",
    "y=500\n",
    "x==y # check data"
   ]
  },
  {
   "cell_type": "code",
   "execution_count": 41,
   "id": "1d4f9517",
   "metadata": {},
   "outputs": [
    {
     "data": {
      "text/plain": [
       "False"
      ]
     },
     "execution_count": 41,
     "metadata": {},
     "output_type": "execute_result"
    }
   ],
   "source": [
    "x is y # memory add check"
   ]
  },
  {
   "cell_type": "code",
   "execution_count": 42,
   "id": "7e157c83",
   "metadata": {},
   "outputs": [],
   "source": [
    "#0-255 fix memory add hoti hai..\n",
    "# 256.... se new memmory add banta hai\n"
   ]
  },
  {
   "cell_type": "code",
   "execution_count": 44,
   "id": "6b3109dc",
   "metadata": {},
   "outputs": [
    {
     "name": "stdout",
     "output_type": "stream",
     "text": [
      "jnfk\n"
     ]
    }
   ],
   "source": [
    "#conditional statenment\n",
    "#if statenment\n",
    "x=10\n",
    "if(x==10):\n",
    "    print(\"jnfk\")"
   ]
  },
  {
   "cell_type": "code",
   "execution_count": 53,
   "id": "adc2728e",
   "metadata": {},
   "outputs": [
    {
     "name": "stdout",
     "output_type": "stream",
     "text": [
      "enterno:75\n",
      "bad\n"
     ]
    }
   ],
   "source": [
    "x=int(input(\"enterno:\"))\n",
    "if(x>=60):\n",
    "    print(\"avg\")\n",
    "elif(x>75 and x<80 ):\n",
    "    print(\"good\")\n",
    "elif(x>80):\n",
    "    print(\"exelent\")    \n",
    "else: \n",
    "     print(\"bad\")\n",
    "        \n",
    "\n",
    "\n",
    "        "
   ]
  },
  {
   "cell_type": "code",
   "execution_count": 48,
   "id": "45be7bfd",
   "metadata": {},
   "outputs": [
    {
     "name": "stdout",
     "output_type": "stream",
     "text": [
      "90\n"
     ]
    }
   ],
   "source": [
    "a=10\n",
    "b=90\n",
    "c=4\n",
    "if(a>b and a>c):\n",
    "    print(a)\n",
    "elif(b>a and b>c):\n",
    "    print(b)\n",
    "else: \n",
    "     print(c)\n",
    "        \n",
    "        \n"
   ]
  },
  {
   "cell_type": "code",
   "execution_count": null,
   "id": "d4ece8d3",
   "metadata": {},
   "outputs": [],
   "source": []
  },
  {
   "cell_type": "code",
   "execution_count": null,
   "id": "633d76cb",
   "metadata": {},
   "outputs": [],
   "source": []
  }
 ],
 "metadata": {
  "kernelspec": {
   "display_name": "Python 3 (ipykernel)",
   "language": "python",
   "name": "python3"
  },
  "language_info": {
   "codemirror_mode": {
    "name": "ipython",
    "version": 3
   },
   "file_extension": ".py",
   "mimetype": "text/x-python",
   "name": "python",
   "nbconvert_exporter": "python",
   "pygments_lexer": "ipython3",
   "version": "3.9.13"
  }
 },
 "nbformat": 4,
 "nbformat_minor": 5
}
